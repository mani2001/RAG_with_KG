{
 "cells": [
  {
   "cell_type": "code",
   "execution_count": 1,
   "id": "c9b2a6d0-5f06-4887-9582-11fe8bd10dd1",
   "metadata": {},
   "outputs": [],
   "source": [
    "#imports and variables\n",
    "import textwrap\n",
    "\n",
    "# Langchain\n",
    "from langchain_community.graphs.neo4j_graph import Neo4jGraph\n",
    "from langchain_community.vectorstores import Neo4jVector\n",
    "from langchain.chains.qa_with_sources.retrieval import RetrievalQAWithSourcesChain\n",
    "from langchain_openai import OpenAIEmbeddings\n",
    "from langchain_openai import ChatOpenAI\n",
    "\n",
    "\n",
    "# Environment Variables\n",
    "from dotenv import load_dotenv\n",
    "import os\n",
    "load_dotenv('neo4j.env')\n",
    "uri = os.getenv('NEO4J_URI')\n",
    "user = os.getenv('NEO4J_USERNAME')\n",
    "password = os.getenv('NEO4J_PASSWORD')\n",
    "\n",
    "# OpenAI\n",
    "OPENAI_API_KEY = os.getenv('OPENAI_API_KEY')"
   ]
  },
  {
   "cell_type": "code",
   "execution_count": 81,
   "id": "505c3bee-61e0-4f77-8df8-66769417d739",
   "metadata": {},
   "outputs": [],
   "source": [
    "VECTOR_INDEX_NAME = 'description_embeddings'\n",
    "VECTOR_NODE_LABEL = 'EmbeddingNode'\n",
    "VECTOR_SOURCE_PROPERTY = 'description'\n",
    "VECTOR_EMBEDDING_PROPERTY = 'descriptionEmbedding'"
   ]
  },
  {
   "cell_type": "code",
   "execution_count": 3,
   "id": "f1deb5ea-3d1c-43c4-b894-263bfbec3080",
   "metadata": {},
   "outputs": [],
   "source": [
    "# Connect with AuraDB database\n",
    "kg = Neo4jGraph(url=uri,username=user,password=password)"
   ]
  },
  {
   "cell_type": "code",
   "execution_count": 69,
   "id": "d8b47dca-9a70-4679-a0e4-dc427a9c3c62",
   "metadata": {},
   "outputs": [
    {
     "data": {
      "text/plain": [
       "[]"
      ]
     },
     "execution_count": 69,
     "metadata": {},
     "output_type": "execute_result"
    }
   ],
   "source": [
    "# Create Vector index\n",
    "kg.query(\"\"\"\n",
    "  CREATE VECTOR INDEX description_embeddings IF NOT EXISTS\n",
    "  FOR (n:EmbeddingNode) ON (n.descriptionEmbedding) \n",
    "  OPTIONS { indexConfig: {\n",
    "    `vector.dimensions`: 1536,\n",
    "    `vector.similarity_function`: 'cosine'\n",
    "  }}\"\"\")\n"
   ]
  },
  {
   "cell_type": "code",
   "execution_count": 70,
   "id": "7863da65-78c0-4c72-a843-42d3cea6c6e3",
   "metadata": {},
   "outputs": [
    {
     "data": {
      "text/plain": [
       "[{'id': 6,\n",
       "  'name': 'description_embeddings',\n",
       "  'state': 'ONLINE',\n",
       "  'populationPercent': 100.0,\n",
       "  'type': 'VECTOR',\n",
       "  'entityType': 'NODE',\n",
       "  'labelsOrTypes': ['EmbeddingNode'],\n",
       "  'properties': ['descriptionEmbedding'],\n",
       "  'indexProvider': 'vector-2.0',\n",
       "  'owningConstraint': None,\n",
       "  'lastRead': None,\n",
       "  'readCount': None},\n",
       " {'id': 0,\n",
       "  'name': 'index_343aff4e',\n",
       "  'state': 'ONLINE',\n",
       "  'populationPercent': 100.0,\n",
       "  'type': 'LOOKUP',\n",
       "  'entityType': 'NODE',\n",
       "  'labelsOrTypes': None,\n",
       "  'properties': None,\n",
       "  'indexProvider': 'token-lookup-1.0',\n",
       "  'owningConstraint': None,\n",
       "  'lastRead': neo4j.time.DateTime(2024, 7, 9, 8, 38, 45, 790000000, tzinfo=<UTC>),\n",
       "  'readCount': 255},\n",
       " {'id': 1,\n",
       "  'name': 'index_f7700477',\n",
       "  'state': 'ONLINE',\n",
       "  'populationPercent': 100.0,\n",
       "  'type': 'LOOKUP',\n",
       "  'entityType': 'RELATIONSHIP',\n",
       "  'labelsOrTypes': None,\n",
       "  'properties': None,\n",
       "  'indexProvider': 'token-lookup-1.0',\n",
       "  'owningConstraint': None,\n",
       "  'lastRead': neo4j.time.DateTime(2024, 7, 8, 14, 21, 8, 804000000, tzinfo=<UTC>),\n",
       "  'readCount': 1}]"
      ]
     },
     "execution_count": 70,
     "metadata": {},
     "output_type": "execute_result"
    }
   ],
   "source": [
    "kg.query(\"\"\"SHOW INDEXES\"\"\")"
   ]
  },
  {
   "cell_type": "code",
   "execution_count": 71,
   "id": "cefaa858-abf0-4464-9039-a5641cb3c53c",
   "metadata": {},
   "outputs": [
    {
     "data": {
      "text/plain": [
       "[]"
      ]
     },
     "execution_count": 71,
     "metadata": {},
     "output_type": "execute_result"
    }
   ],
   "source": [
    "kg.query(\"\"\"\n",
    "    MATCH (n:EmbeddingNode) WHERE n.description IS NOT NULL\n",
    "    WITH n, genai.vector.encode(\n",
    "       n.description, \n",
    "        \"OpenAI\", \n",
    "        {\n",
    "          token: $openAiApiKey\n",
    "        }) AS vector\n",
    "    CALL db.create.setNodeVectorProperty(n, \"descriptionEmbedding\", vector)\n",
    "    \"\"\", \n",
    "    params={\"openAiApiKey\":OPENAI_API_KEY})"
   ]
  },
  {
   "cell_type": "code",
   "execution_count": 72,
   "id": "a6345eb9-df4d-427b-9c0a-56999cccf97d",
   "metadata": {},
   "outputs": [
    {
     "name": "stdout",
     "output_type": "stream",
     "text": [
      "Node properties:\n",
      "Company {name: STRING, description: STRING, descriptionEmbedding: LIST}\n",
      "Car {name: STRING, description: STRING, descriptionEmbedding: LIST}\n",
      "Color {name: STRING, description: STRING, descriptionEmbedding: LIST}\n",
      "ColorGradient {name: STRING, description: STRING, descriptionEmbedding: LIST}\n",
      "Price {description: STRING, descriptionEmbedding: LIST}\n",
      "EmbeddingNode {name: STRING, description: STRING, descriptionEmbedding: LIST}\n",
      "Relationship properties:\n",
      "\n",
      "The relationships:\n",
      "(:Car)-[:MANUFACTURED_BY]->(:Company)\n",
      "(:Car)-[:MANUFACTURED_BY]->(:EmbeddingNode)\n",
      "(:Car)-[:AVAILABLE_IN]->(:Color)\n",
      "(:Car)-[:AVAILABLE_IN]->(:EmbeddingNode)\n",
      "(:Car)-[:COSTS]->(:Price)\n",
      "(:Car)-[:COSTS]->(:EmbeddingNode)\n",
      "(:Color)-[:SHADES]->(:ColorGradient)\n",
      "(:Color)-[:SHADES]->(:EmbeddingNode)\n",
      "(:EmbeddingNode)-[:MANUFACTURED_BY]->(:Company)\n",
      "(:EmbeddingNode)-[:MANUFACTURED_BY]->(:EmbeddingNode)\n",
      "(:EmbeddingNode)-[:AVAILABLE_IN]->(:Color)\n",
      "(:EmbeddingNode)-[:AVAILABLE_IN]->(:EmbeddingNode)\n",
      "(:EmbeddingNode)-[:COSTS]->(:Price)\n",
      "(:EmbeddingNode)-[:COSTS]->(:EmbeddingNode)\n",
      "(:EmbeddingNode)-[:SHADES]->(:ColorGradient)\n",
      "(:EmbeddingNode)-[:SHADES]->(:EmbeddingNode)\n"
     ]
    }
   ],
   "source": [
    "kg.refresh_schema()\n",
    "print(kg.schema)"
   ]
  },
  {
   "cell_type": "code",
   "execution_count": 74,
   "id": "527114b8-f6dc-40a1-a42a-972fcfbd7b55",
   "metadata": {},
   "outputs": [],
   "source": [
    "question = \"which car starts with family?\""
   ]
  },
  {
   "cell_type": "code",
   "execution_count": 78,
   "id": "69d59e56-00af-42d4-b837-24c18ed663ae",
   "metadata": {},
   "outputs": [
    {
     "data": {
      "text/plain": [
       "[{'n.name': 'model3',\n",
       "  'n.description': 'The FamilyWagon 4000 is the ideal vehicle for families, offering a perfect blend of comfort, space, and safety. Designed with family needs in mind, this car provides ample room for passengers and cargo, advanced safety features, and a comfortable ride for long journeys. The FamilyWagon 4000 ensures that every family trip is enjoyable and secure, making it a reliable companion for everyday use and road trips alike.',\n",
       "  'score': 0.9058119058609009},\n",
       " {'n.name': 'AutomotiveX',\n",
       "  'n.description': \"Founded in 1995, AutoMotiveX quickly emerged as a pioneer in the automotive industry, known for its dedication to innovation and excellence. Headquartered in the heart of Detroit, Michigan, the company has revolutionized car manufacturing with its cutting-edge technology and sustainable practices. AutoMotiveX's flagship models, including the Speedster 2000, EcoRide 3000, and FamilyWagon 4000, have set new standards in performance, efficiency, and safety. With a team of over 10,000 skilled professionals led by CEO John Doe, AutoMotiveX continues to push the boundaries of what is possible, delivering vehicles that not only meet but exceed customer expectations. Their commitment to quality and customer satisfaction has earned them numerous awards and a loyal customer base worldwide.\",\n",
       "  'score': 0.8902856707572937},\n",
       " {'n.name': None,\n",
       "  'n.description': 'The Speedster 2000 is priced at $60,000, offering high performance and cutting-edge features. The EcoRide 3000, known for its eco-friendly design and fuel efficiency, is available for $35,000. For those looking for a spacious and safe family car, the FamilyWagon 4000 is priced at $45,000, providing ample room and advanced safety features.',\n",
       "  'score': 0.885176420211792},\n",
       " {'n.name': 'White',\n",
       "  'n.description': 'White symbolizes purity, simplicity, and modernity. It gives a clean and fresh look to any vehicle, highlighting its design lines and features. A car in White offers a versatile and contemporary appearance, suitable for a wide range of preferences and tastes.',\n",
       "  'score': 0.877987802028656},\n",
       " {'n.name': 'model1',\n",
       "  'n.description': 'The Speedster 2000 is designed for those who crave excitement and performance. This sports car offers a blend of power, agility, and advanced technology, making it a top choice for enthusiasts who appreciate a thrilling driving experience. With its state-of-the-art engineering and high-end features, the Speedster 2000 sets a new benchmark in the sports car segment.',\n",
       "  'score': 0.8769210577011108}]"
      ]
     },
     "execution_count": 78,
     "metadata": {},
     "output_type": "execute_result"
    }
   ],
   "source": [
    "kg.query(\"\"\"\n",
    "    WITH genai.vector.encode(\n",
    "        $question, \n",
    "        \"OpenAI\", \n",
    "        {\n",
    "          token: $openAiApiKey\n",
    "        }) AS question_embedding\n",
    "    CALL db.index.vector.queryNodes(\n",
    "        'description_embeddings', \n",
    "        $top_k, \n",
    "        question_embedding\n",
    "        ) YIELD node AS n, score\n",
    "    RETURN n.name, n.description, score\n",
    "    \"\"\", \n",
    "    params={\"openAiApiKey\":OPENAI_API_KEY,\n",
    "            \"question\": question,\n",
    "            \"top_k\": 5\n",
    "            })"
   ]
  },
  {
   "cell_type": "code",
   "execution_count": 90,
   "id": "4bda5ca5-f1a9-4dca-b5d0-1724b0ac4726",
   "metadata": {},
   "outputs": [
    {
     "name": "stderr",
     "output_type": "stream",
     "text": [
      "Received notification from DBMS server: {severity: WARNING} {code: Neo.ClientNotification.Statement.FeatureDeprecationWarning} {category: DEPRECATION} {title: This feature is deprecated and will be removed in future versions.} {description: The query used a deprecated procedure. ('db.create.setVectorProperty' has been replaced by 'db.create.setNodeVectorProperty')} {position: line: 1, column: 75, offset: 74} for query: \"UNWIND $data AS row MATCH (n:`EmbeddingNode`) WHERE elementId(n) = row.id CALL db.create.setVectorProperty(n, 'descriptionEmbedding', row.embedding) YIELD node RETURN count(*)\"\n"
     ]
    }
   ],
   "source": [
    "neo4j_vector_store = Neo4jVector.from_existing_graph(\n",
    "    embedding=OpenAIEmbeddings(),\n",
    "    url=uri,\n",
    "    username=user,\n",
    "    password=password,\n",
    "    index_name=VECTOR_INDEX_NAME,\n",
    "    node_label=VECTOR_NODE_LABEL,\n",
    "    text_node_properties=[VECTOR_SOURCE_PROPERTY],\n",
    "    embedding_node_property=VECTOR_EMBEDDING_PROPERTY,\n",
    ")"
   ]
  },
  {
   "cell_type": "code",
   "execution_count": 92,
   "id": "8e8fdaa9-46b8-4ed6-befc-ced90e72c8bf",
   "metadata": {},
   "outputs": [],
   "source": [
    "retriever = neo4j_vector_store.as_retriever()"
   ]
  },
  {
   "cell_type": "code",
   "execution_count": 97,
   "id": "908aa1bb-5d37-4932-a652-83538ba413d4",
   "metadata": {},
   "outputs": [],
   "source": [
    "chain = RetrievalQAWithSourcesChain.from_chain_type(\n",
    "    ChatOpenAI(temperature=0), \n",
    "    chain_type=\"stuff\", \n",
    "    retriever=retriever\n",
    ")"
   ]
  },
  {
   "cell_type": "code",
   "execution_count": 98,
   "id": "4a9dee5b-b696-42c2-9854-34b61a71d0d5",
   "metadata": {},
   "outputs": [],
   "source": [
    "def prettychain(question: str) -> str:\n",
    "    \"\"\"Pretty print the chain's response to a question\"\"\"\n",
    "    response = chain({\"question\": question},\n",
    "        return_only_outputs=True,)\n",
    "    print(textwrap.fill(response['answer'], 60))"
   ]
  },
  {
   "cell_type": "code",
   "execution_count": 99,
   "id": "b2630197-594d-44ed-84f5-2f9ec4840395",
   "metadata": {},
   "outputs": [],
   "source": [
    "question = \"What is the car that starts with the word fam..\""
   ]
  },
  {
   "cell_type": "code",
   "execution_count": 100,
   "id": "0c2692a1-c3ea-4636-9dff-f17e40564cbd",
   "metadata": {},
   "outputs": [
    {
     "name": "stdout",
     "output_type": "stream",
     "text": [
      "The car that starts with \"fam\" is the FamilyWagon 4000.\n"
     ]
    }
   ],
   "source": [
    "prettychain(question)"
   ]
  },
  {
   "cell_type": "code",
   "execution_count": 107,
   "id": "fedafff3-8c8f-4ca7-8d8a-30d06fc3a0e4",
   "metadata": {},
   "outputs": [],
   "source": [
    "question = \"Which company does Eco... belong to and what is its full name.\""
   ]
  },
  {
   "cell_type": "code",
   "execution_count": null,
   "id": "62b5e390-f183-4fb2-8adb-30598f04782e",
   "metadata": {},
   "outputs": [],
   "source": [
    "prettychain(question)"
   ]
  },
  {
   "cell_type": "code",
   "execution_count": 117,
   "id": "7f003004-728b-4c22-acb7-652fbf2934c1",
   "metadata": {},
   "outputs": [
    {
     "name": "stdout",
     "output_type": "stream",
     "text": [
      "The safest car is the FamilyWagon 4000 because it is\n",
      "designed with advanced safety features specifically for\n",
      "families, ensuring a secure ride for passengers.\n"
     ]
    }
   ],
   "source": [
    "prettychain(\"which car is the safest and why?\")"
   ]
  },
  {
   "cell_type": "code",
   "execution_count": 137,
   "id": "ec31d0cb-1f18-4d81-b01c-5b840ff1814e",
   "metadata": {},
   "outputs": [],
   "source": [
    "retrieval_query_window = \"\"\"\n",
    "MATCH window = \n",
    "    (:EmbeddingNode)<-[*0..1]-(node)-[*0..1]->(:EmbeddingNode)\n",
    "WITH node, score, window as longestWindow \n",
    "  ORDER BY length(window) DESC LIMIT 1\n",
    "WITH nodes(longestWindow) as nodeList, node, score\n",
    "  UNWIND nodeList as nodeRows\n",
    "WITH collect(nodeRows.description) as textList, node, score\n",
    "RETURN apoc.text.join(textList, \" \\n \") as text,\n",
    "    score,\n",
    "    node {.source} AS metadata\n",
    "\"\"\""
   ]
  },
  {
   "cell_type": "code",
   "execution_count": 138,
   "id": "a28070ce-7071-43e7-a98d-2411f13ff215",
   "metadata": {},
   "outputs": [],
   "source": [
    "vector_store_window = Neo4jVector.from_existing_index(\n",
    "    embedding=OpenAIEmbeddings(),\n",
    "    url=uri,\n",
    "    username=user,\n",
    "    password=password,\n",
    "    database=\"neo4j\",\n",
    "    index_name=VECTOR_INDEX_NAME,\n",
    "    node_label = VECTOR_NODE_LABEL,\n",
    "    text_node_property=VECTOR_SOURCE_PROPERTY,\n",
    "    retrieval_query=retrieval_query_window,\n",
    ")"
   ]
  },
  {
   "cell_type": "code",
   "execution_count": 139,
   "id": "9f6bcafb-72fb-401e-a844-efb9b47eaa4a",
   "metadata": {},
   "outputs": [],
   "source": [
    "retriever_window = vector_store_window.as_retriever()"
   ]
  },
  {
   "cell_type": "code",
   "execution_count": 140,
   "id": "626c8c1b-8ed5-4035-b001-c0373bce7e1b",
   "metadata": {},
   "outputs": [],
   "source": [
    "chain_window = RetrievalQAWithSourcesChain.from_chain_type(\n",
    "    ChatOpenAI(temperature=0), \n",
    "    chain_type=\"stuff\", \n",
    "    retriever=retriever_window\n",
    ")"
   ]
  },
  {
   "cell_type": "code",
   "execution_count": 183,
   "id": "e1bf957c-6e6f-440f-bdad-f9964cc92704",
   "metadata": {},
   "outputs": [],
   "source": [
    "question = \"Which company does the cherry red EcoRide belong to?\""
   ]
  },
  {
   "cell_type": "code",
   "execution_count": 184,
   "id": "c5425b1b-4f01-48dc-8081-32bbc7c06c46",
   "metadata": {},
   "outputs": [
    {
     "name": "stdout",
     "output_type": "stream",
     "text": [
      "The cherry red EcoRide belongs to the same company that produces the\n",
      "Speedster 2000, EcoRide 3000, and FamilyWagon 4000.\n"
     ]
    }
   ],
   "source": [
    "answer = chain_window(\n",
    "\n",
    "    {\"question\": question},\n",
    "    return_only_outputs=True,\n",
    ")\n",
    "print(textwrap.fill(answer[\"answer\"]))"
   ]
  },
  {
   "cell_type": "code",
   "execution_count": 164,
   "id": "89a641d0-986b-4c22-b22a-76a402923546",
   "metadata": {},
   "outputs": [],
   "source": [
    "question = \"What are the colors red is availabe in\""
   ]
  },
  {
   "cell_type": "code",
   "execution_count": 165,
   "id": "54830975-7a9c-42ac-a2cb-8831b7503b46",
   "metadata": {},
   "outputs": [
    {
     "name": "stdout",
     "output_type": "stream",
     "text": [
      "Red is available in Crimson and Cherry red.\n"
     ]
    }
   ],
   "source": [
    "answer = chain_window(\n",
    "\n",
    "    {\"question\": question},\n",
    "    return_only_outputs=True,\n",
    ")\n",
    "print(textwrap.fill(answer[\"answer\"]))"
   ]
  },
  {
   "cell_type": "code",
   "execution_count": 145,
   "id": "f1901fb8-022f-427e-b822-32ea143b873e",
   "metadata": {},
   "outputs": [
    {
     "data": {
      "text/plain": [
       "{'answer': 'The colors available in red are Crimson and Cherry red.\\n',\n",
       " 'sources': 'dummySource'}"
      ]
     },
     "execution_count": 145,
     "metadata": {},
     "output_type": "execute_result"
    }
   ],
   "source": [
    "answer"
   ]
  }
 ],
 "metadata": {
  "kernelspec": {
   "display_name": "Python 3 (ipykernel)",
   "language": "python",
   "name": "python3"
  },
  "language_info": {
   "codemirror_mode": {
    "name": "ipython",
    "version": 3
   },
   "file_extension": ".py",
   "mimetype": "text/x-python",
   "name": "python",
   "nbconvert_exporter": "python",
   "pygments_lexer": "ipython3",
   "version": "3.11.4"
  }
 },
 "nbformat": 4,
 "nbformat_minor": 5
}
